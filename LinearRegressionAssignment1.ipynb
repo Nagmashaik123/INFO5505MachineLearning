{
  "cells": [
    {
      "cell_type": "markdown",
      "metadata": {
        "id": "view-in-github",
        "colab_type": "text"
      },
      "source": [
        "<a href=\"https://colab.research.google.com/github/Nagmashaik123/INFO5505MachineLearning/blob/main/LinearRegressionAssignment1.ipynb\" target=\"_parent\"><img src=\"https://colab.research.google.com/assets/colab-badge.svg\" alt=\"Open In Colab\"/></a>"
      ]
    },
    {
      "cell_type": "markdown",
      "source": [
        "**Linear Regression Def :**\n",
        "\n",
        "---\n",
        "\n",
        "\n",
        "1. Linear Regression is a Supervised learning Algorithm in Machine Learning.\n",
        "2. Linear regression can be termed as a linear model, can be better explained through an e.g. it is a model that presume that the input variables (x) and the single output variable (y) exist linearly. Which mean that the value of y can be calculated and computed from a linear combination of the input variables (x)."
      ],
      "metadata": {
        "id": "zt7xr3NeIucW"
      }
    },
    {
      "cell_type": "markdown",
      "source": [
        "**Dataset:**\n",
        "\n",
        "---\n",
        "\n",
        "\n",
        "Here, the dataset considered for the use case is Monset.csv dataset, which contains 6 columns, they are\n",
        "PRICE 2. HEIGHT 3. WIDTH 4. SIGNED 5. PICTURE 6. HOUSE"
      ],
      "metadata": {
        "id": "SDsBBZlPI1zT"
      }
    },
    {
      "cell_type": "code",
      "source": [
        "# Importing all the necessary libraries\n",
        "import numpy as np\n",
        "import pandas as pd\n",
        "import matplotlib.pyplot as plt\n",
        "import seaborn as sns\n",
        "from sklearn.linear_model import LinearRegression\n",
        "from sklearn.metrics import accuracy_score\n",
        "from sklearn.metrics import mean_squared_error\n",
        "from math import sqrt\n",
        "from sklearn.preprocessing import MinMaxScaler\n",
        "from sklearn import preprocessing\n"
      ],
      "metadata": {
        "id": "_787HKloKmvo"
      },
      "execution_count": 134,
      "outputs": []
    },
    {
      "cell_type": "code",
      "source": [
        "# Reading the dataset\n",
        "monet_df=pd.read_csv(\"/content/monet.csv\")"
      ],
      "metadata": {
        "id": "dUSX5rsvK4bw"
      },
      "execution_count": 135,
      "outputs": []
    },
    {
      "cell_type": "code",
      "source": [
        "monet_df.head()\n",
        "monet_df.shape"
      ],
      "metadata": {
        "id": "E7tFTeMZLBX5",
        "outputId": "8048c430-62f7-4f4a-c0c9-5faaadd6c303",
        "colab": {
          "base_uri": "https://localhost:8080/"
        }
      },
      "execution_count": 136,
      "outputs": [
        {
          "output_type": "execute_result",
          "data": {
            "text/plain": [
              "(430, 6)"
            ]
          },
          "metadata": {},
          "execution_count": 136
        }
      ]
    },
    {
      "cell_type": "markdown",
      "source": [
        "**Model One:**\n",
        "\n",
        "---\n",
        "\n",
        "\n",
        "For creating model one intially I am combining two attributes height and width as a product of this two created a new size column in the frame.\n",
        "\n",
        "**SIZE** = Product of **WIDTH** and **HEIGHT**"
      ],
      "metadata": {
        "id": "s4wnUgMQMEVx"
      }
    },
    {
      "cell_type": "code",
      "source": [
        "monet_df['SIZE']=monet_df['HEIGHT']*monet_df['WIDTH']"
      ],
      "metadata": {
        "id": "wZwIFSrvMGDm"
      },
      "execution_count": 137,
      "outputs": []
    },
    {
      "cell_type": "code",
      "source": [
        "monet_df.to_csv(\"/content/monet_new.csv\",index=False )"
      ],
      "metadata": {
        "id": "1tnIWnn8MVeZ"
      },
      "execution_count": 138,
      "outputs": []
    },
    {
      "cell_type": "code",
      "source": [
        "monet_df=pd.read_csv(\"/content/monet_new.csv\")"
      ],
      "metadata": {
        "id": "CZZWtbtwQo20"
      },
      "execution_count": 139,
      "outputs": []
    },
    {
      "cell_type": "markdown",
      "source": [
        "**Variable Preparation for Model One analysis:**\n",
        "\n",
        "---\n",
        "\n",
        "\n",
        "The input/predictor variable in this use case is X. This is used to predict output variable.\n",
        "\n",
        "The output variable is in this use case is Y. This is the variable we want to predict from the input.\n",
        " \n",
        "This can be demonstrated as follows\n",
        "X = SIZE (Input)\n",
        "Y = WIDTH (Output)\n"
      ],
      "metadata": {
        "id": "Mo6DntynNlKB"
      }
    },
    {
      "cell_type": "markdown",
      "source": [
        "**Data Division for computation:**\n",
        "\n",
        "---\n",
        "\n",
        "We need two variable values to perform the analysis hence I am using iloc function to extract size and width columns for the analysis from the dataframe.\n"
      ],
      "metadata": {
        "id": "fXXKh5aEO777"
      }
    },
    {
      "cell_type": "code",
      "source": [
        "#Data division for SIZE\n",
        "\n",
        "X= monet_df.iloc[:,-1:]\n",
        "size= X['SIZE']\n",
        "size"
      ],
      "metadata": {
        "colab": {
          "base_uri": "https://localhost:8080/"
        },
        "id": "LV2bBl4HQKhd",
        "outputId": "77ed9db6-08fe-4e3f-af42-985ad1673c73"
      },
      "execution_count": 145,
      "outputs": [
        {
          "output_type": "execute_result",
          "data": {
            "text/plain": [
              "0       545.28\n",
              "1       816.64\n",
              "2       109.71\n",
              "3       822.40\n",
              "4       822.40\n",
              "        ...   \n",
              "425    1008.64\n",
              "426    1025.64\n",
              "427    1013.76\n",
              "428    1008.64\n",
              "429     822.40\n",
              "Name: SIZE, Length: 430, dtype: float64"
            ]
          },
          "metadata": {},
          "execution_count": 145
        }
      ]
    },
    {
      "cell_type": "code",
      "source": [
        "# Data division for WIDTH\n",
        "\n",
        "Y=monet_df.iloc[:, :3]\n",
        "width= Y['WIDTH']\n",
        "width"
      ],
      "metadata": {
        "id": "3Gcn0elRYAzI",
        "outputId": "2e51f88f-9716-445a-fe70-2a8a3dadbde2",
        "colab": {
          "base_uri": "https://localhost:8080/"
        }
      },
      "execution_count": 146,
      "outputs": [
        {
          "output_type": "execute_result",
          "data": {
            "text/plain": [
              "0      25.6\n",
              "1      25.6\n",
              "2      15.9\n",
              "3      32.0\n",
              "4      32.0\n",
              "       ... \n",
              "425    39.4\n",
              "426    39.6\n",
              "427    39.6\n",
              "428    39.4\n",
              "429    32.0\n",
              "Name: WIDTH, Length: 430, dtype: float64"
            ]
          },
          "metadata": {},
          "execution_count": 146
        }
      ]
    },
    {
      "cell_type": "markdown",
      "source": [
        "**Data Visualisation:**\n",
        "\n",
        "---\n",
        "we draw the scatter plot for visualization purpose for the original data .\n"
      ],
      "metadata": {
        "id": "kYsBYRzXRcMi"
      }
    },
    {
      "cell_type": "code",
      "source": [
        "sns.regplot(size, width, scatter_kws={\"color\": \"black\"}, line_kws={\"color\": \"red\"}).set(title='Data visulation for original data PricevsSize')"
      ],
      "metadata": {
        "colab": {
          "base_uri": "https://localhost:8080/",
          "height": 366
        },
        "id": "X1SMGYJSRvki",
        "outputId": "3f31c20a-6a40-493c-f1e1-bf30dbb7d439"
      },
      "execution_count": 147,
      "outputs": [
        {
          "output_type": "stream",
          "name": "stderr",
          "text": [
            "/usr/local/lib/python3.7/dist-packages/seaborn/_decorators.py:43: FutureWarning: Pass the following variables as keyword args: x, y. From version 0.12, the only valid positional argument will be `data`, and passing other arguments without an explicit keyword will result in an error or misinterpretation.\n",
            "  FutureWarning\n"
          ]
        },
        {
          "output_type": "execute_result",
          "data": {
            "text/plain": [
              "[Text(0.5, 1.0, 'Data visulation for original data PricevsSize')]"
            ]
          },
          "metadata": {},
          "execution_count": 147
        },
        {
          "output_type": "display_data",
          "data": {
            "image/png": "[encoded data removed]",
            "text/plain": [
              "<Figure size 432x288 with 1 Axes>"
            ]
          },
          "metadata": {
            "needs_background": "light"
          }
        }
      ]
    },
    {
      "cell_type": "code",
      "source": [
        "!pip install sklearn"
      ],
      "metadata": {
        "colab": {
          "base_uri": "https://localhost:8080/"
        },
        "id": "i2aYWGd_W79v",
        "outputId": "c48dd167-254d-43e8-b766-56181ba10dc8"
      },
      "execution_count": 45,
      "outputs": [
        {
          "output_type": "stream",
          "name": "stdout",
          "text": [
            "Requirement already satisfied: sklearn in /usr/local/lib/python3.7/dist-packages (0.0)\n",
            "Requirement already satisfied: scikit-learn in /usr/local/lib/python3.7/dist-packages (from sklearn) (1.0.2)\n",
            "Requirement already satisfied: scipy>=1.1.0 in /usr/local/lib/python3.7/dist-packages (from scikit-learn->sklearn) (1.4.1)\n",
            "Requirement already satisfied: threadpoolctl>=2.0.0 in /usr/local/lib/python3.7/dist-packages (from scikit-learn->sklearn) (3.0.0)\n",
            "Requirement already satisfied: numpy>=1.14.6 in /usr/local/lib/python3.7/dist-packages (from scikit-learn->sklearn) (1.19.5)\n",
            "Requirement already satisfied: joblib>=0.11 in /usr/local/lib/python3.7/dist-packages (from scikit-learn->sklearn) (1.1.0)\n"
          ]
        }
      ]
    },
    {
      "cell_type": "markdown",
      "source": [
        "**Data Splitting:** \n",
        "\n",
        "---\n",
        "\n",
        "\n",
        "Using the library sklearn.model_selection having train_test_split method, we divide the data into training and testing sets.\n",
        "\n",
        "In this usecase the data is divided into 80:20 then seperating the data into dataframes.\n",
        "\n"
      ],
      "metadata": {
        "id": "18CGsD5vUnQT"
      }
    },
    {
      "cell_type": "code",
      "source": [
        "from sklearn.model_selection import train_test_split\n",
        "train_val, test_val = train_test_split(monet_df,test_size =0.2,random_state=0)"
      ],
      "metadata": {
        "id": "VhibS1sDVlKH"
      },
      "execution_count": 148,
      "outputs": []
    },
    {
      "cell_type": "code",
      "source": [
        "# Test data splitting\n",
        "testDataSize= test_val['SIZE'].values\n",
        "testDataSize= testDataSize.reshape(-1,1)\n",
        "testDataWidth=test_val['WIDTH'].values\n",
        "testDataWidth= testDataWidth.reshape(-1,1)\n",
        "\n",
        "# Train data splitting\n",
        "trainDataSize= train_val['SIZE'].values\n",
        "trainDataSize= trainDataSize.reshape(-1,1)\n",
        "trainDataWidth=train_val['WIDTH'].values\n",
        "trainDataWidth= trainDataWidth.reshape(-1,1)"
      ],
      "metadata": {
        "id": "qNCuwZJSXSHu"
      },
      "execution_count": 149,
      "outputs": []
    },
    {
      "cell_type": "markdown",
      "source": [
        "**Training Model:**\n",
        "\n",
        "---\n",
        "Since Linear Regression model must be implemented, we can achieve this by using library of sklearn.linear_model having LinearRegression method. Then the model is trained using the training data. ."
      ],
      "metadata": {
        "id": "FbgY4M06ZRAA"
      }
    },
    {
      "cell_type": "code",
      "source": [
        "# Preparing the model for prediction :\n",
        "\n",
        "Linear_model = LinearRegression()\n",
        "Linear_model.fit(trainDataSize,trainDataWidth)"
      ],
      "metadata": {
        "colab": {
          "base_uri": "https://localhost:8080/"
        },
        "id": "tuP84hYMahOV",
        "outputId": "b09e90ea-7822-4001-8bcd-c42a93617112"
      },
      "execution_count": 150,
      "outputs": [
        {
          "output_type": "execute_result",
          "data": {
            "text/plain": [
              "LinearRegression()"
            ]
          },
          "metadata": {},
          "execution_count": 150
        }
      ]
    },
    {
      "cell_type": "markdown",
      "source": [
        "**Predicting the values:**\n",
        "\n",
        "---\n",
        "\n",
        "After training the model. By implementing the Linear Regression model, the values are predicted using testing data."
      ],
      "metadata": {
        "id": "GpOD6LLcb71m"
      }
    },
    {
      "cell_type": "code",
      "source": [
        "Predicting_values= Linear_model.predict(testDataSize)\n",
        "Predicting_values\n"
      ],
      "metadata": {
        "id": "3YlE0QtScUFS"
      },
      "execution_count": null,
      "outputs": []
    },
    {
      "cell_type": "markdown",
      "source": [
        "**Model Evaluation - by calculating errors:**\n",
        "\n",
        "---\n",
        "\n",
        "\n",
        "The model evaluation is done using Scikit-learn library\n",
        "● Mean Absolute error\n",
        "● Root mean squared error"
      ],
      "metadata": {
        "id": "WLawMjG3eCjd"
      }
    },
    {
      "cell_type": "code",
      "source": [
        "from sklearn.metrics import mean_absolute_error \n",
        "test_data= testDataWidth.flatten()\n",
        "absolute_error= mean_absolute_error(test_data,Predicting_values)\n",
        "sqrd_error=mean_squared_error(test_data,Predicting_values)\n",
        "mean_sqrd_error= np.sqrt(sqrd_error)\n",
        "\n",
        "print(\"Mean Absolute Error: \", absolute_error)\n",
        "print(\"Root Mean Squared Error: \",mean_sqrd_error)"
      ],
      "metadata": {
        "id": "sVl5eOVfllHE",
        "outputId": "e966dbff-32dd-44dc-958b-b4c2664c31c3",
        "colab": {
          "base_uri": "https://localhost:8080/"
        }
      },
      "execution_count": 160,
      "outputs": [
        {
          "output_type": "stream",
          "name": "stdout",
          "text": [
            "Mean Absolute Error:  3.3800917777511414\n",
            "Root Mean Squared Error:  4.500018652016253\n"
          ]
        }
      ]
    },
    {
      "cell_type": "markdown",
      "source": [
        "**Data Visualisation for traning and testing data:**\n",
        "\n",
        "---\n",
        "\n",
        "Visualization graphs are drawn below"
      ],
      "metadata": {
        "id": "s_YoWnQuoH24"
      }
    },
    {
      "cell_type": "code",
      "source": [
        "sns.regplot(testDataSize, testDataWidth, scatter_kws={\"color\": \"red\"}, line_kws={\"color\": \"green\"}).set(title='Testing Data Plot')"
      ],
      "metadata": {
        "id": "YRxMudIrooov",
        "outputId": "d04a542d-e23d-4556-fd1d-1e079ee00659",
        "colab": {
          "base_uri": "https://localhost:8080/",
          "height": 352
        }
      },
      "execution_count": 71,
      "outputs": [
        {
          "output_type": "stream",
          "name": "stderr",
          "text": [
            "/usr/local/lib/python3.7/dist-packages/seaborn/_decorators.py:43: FutureWarning: Pass the following variables as keyword args: x, y. From version 0.12, the only valid positional argument will be `data`, and passing other arguments without an explicit keyword will result in an error or misinterpretation.\n",
            "  FutureWarning\n"
          ]
        },
        {
          "output_type": "execute_result",
          "data": {
            "text/plain": [
              "[Text(0.5, 1.0, 'Testing Data Plot')]"
            ]
          },
          "metadata": {},
          "execution_count": 71
        },
        {
          "output_type": "display_data",
          "data": {
            "image/png": "[encoded data removed]",
            "text/plain": [
              "<Figure size 432x288 with 1 Axes>"
            ]
          },
          "metadata": {
            "needs_background": "light"
          }
        }
      ]
    },
    {
      "cell_type": "code",
      "source": [
        "sns.regplot(trainDataSize, trainDataWidth, scatter_kws={\"color\": \"red\"}, line_kws={\"color\": \"green\"}).set(title='Training Data Plot')"
      ],
      "metadata": {
        "id": "TyCiMpP6pbLI",
        "outputId": "a0f4db17-9413-4916-8974-4a3ce09f9963",
        "colab": {
          "base_uri": "https://localhost:8080/",
          "height": 352
        }
      },
      "execution_count": 72,
      "outputs": [
        {
          "output_type": "stream",
          "name": "stderr",
          "text": [
            "/usr/local/lib/python3.7/dist-packages/seaborn/_decorators.py:43: FutureWarning: Pass the following variables as keyword args: x, y. From version 0.12, the only valid positional argument will be `data`, and passing other arguments without an explicit keyword will result in an error or misinterpretation.\n",
            "  FutureWarning\n"
          ]
        },
        {
          "output_type": "execute_result",
          "data": {
            "text/plain": [
              "[Text(0.5, 1.0, 'Training Data Plot')]"
            ]
          },
          "metadata": {},
          "execution_count": 72
        },
        {
          "output_type": "display_data",
          "data": {
            "image/png": "[encoded data removed]",
            "text/plain": [
              "<Figure size 432x288 with 1 Axes>"
            ]
          },
          "metadata": {
            "needs_background": "light"
          }
        }
      ]
    },
    {
      "cell_type": "markdown",
      "source": [
        "**Model One Conclusion:**\n",
        "\n",
        "---\n",
        "It is evident that the values are very approximate to the linear line, which verdicts that there occur minimal errors. Hence based on accuracy this is proven to be best fit and the model is performing well in predicting values. "
      ],
      "metadata": {
        "id": "qp8afJyqqpDU"
      }
    },
    {
      "cell_type": "markdown",
      "source": [
        "**Building Model Two:**\n",
        "\n",
        "---\n",
        "\n",
        "\n",
        "Model two is created by using two attributes height and price as independent and dependent variables. Where\n",
        "X stores the values of height and is an independent variable. Y stores the values of price and is a dependable variable. \n"
      ],
      "metadata": {
        "id": "LXjXkiphtFm_"
      }
    },
    {
      "cell_type": "code",
      "source": [
        "# Reading the dataset\n",
        "monet_df=pd.read_csv(\"/content/monet.csv\")\n",
        "monet_df.shape\n",
        "monet_df.head()\n"
      ],
      "metadata": {
        "colab": {
          "base_uri": "https://localhost:8080/",
          "height": 204
        },
        "id": "ZxwRREbnt5st",
        "outputId": "491ac7e1-0bfb-4f7c-c09d-f706bb85848a"
      },
      "execution_count": 163,
      "outputs": [
        {
          "output_type": "execute_result",
          "data": {
            "text/html": [
              "\n",
              "  <div id=\"df-fec2c35f-f91a-4589-bcc2-0bd26d39a31b\">\n",
              "    <div class=\"colab-df-container\">\n",
              "      <div>\n",
              "<style scoped>\n",
              "    .dataframe tbody tr th:only-of-type {\n",
              "        vertical-align: middle;\n",
              "    }\n",
              "\n",
              "    .dataframe tbody tr th {\n",
              "        vertical-align: top;\n",
              "    }\n",
              "\n",
              "    .dataframe thead th {\n",
              "        text-align: right;\n",
              "    }\n",
              "</style>\n",
              "<table border=\"1\" class=\"dataframe\">\n",
              "  <thead>\n",
              "    <tr style=\"text-align: right;\">\n",
              "      <th></th>\n",
              "      <th>PRICE</th>\n",
              "      <th>HEIGHT</th>\n",
              "      <th>WIDTH</th>\n",
              "      <th>SIGNED</th>\n",
              "      <th>PICTURE</th>\n",
              "      <th>HOUSE</th>\n",
              "    </tr>\n",
              "  </thead>\n",
              "  <tbody>\n",
              "    <tr>\n",
              "      <th>0</th>\n",
              "      <td>3.993780</td>\n",
              "      <td>21.3</td>\n",
              "      <td>25.6</td>\n",
              "      <td>1</td>\n",
              "      <td>1</td>\n",
              "      <td>1</td>\n",
              "    </tr>\n",
              "    <tr>\n",
              "      <th>1</th>\n",
              "      <td>8.800000</td>\n",
              "      <td>31.9</td>\n",
              "      <td>25.6</td>\n",
              "      <td>1</td>\n",
              "      <td>2</td>\n",
              "      <td>2</td>\n",
              "    </tr>\n",
              "    <tr>\n",
              "      <th>2</th>\n",
              "      <td>0.131694</td>\n",
              "      <td>6.9</td>\n",
              "      <td>15.9</td>\n",
              "      <td>0</td>\n",
              "      <td>3</td>\n",
              "      <td>3</td>\n",
              "    </tr>\n",
              "    <tr>\n",
              "      <th>3</th>\n",
              "      <td>2.037500</td>\n",
              "      <td>25.7</td>\n",
              "      <td>32.0</td>\n",
              "      <td>1</td>\n",
              "      <td>4</td>\n",
              "      <td>2</td>\n",
              "    </tr>\n",
              "    <tr>\n",
              "      <th>4</th>\n",
              "      <td>1.487500</td>\n",
              "      <td>25.7</td>\n",
              "      <td>32.0</td>\n",
              "      <td>1</td>\n",
              "      <td>4</td>\n",
              "      <td>2</td>\n",
              "    </tr>\n",
              "  </tbody>\n",
              "</table>\n",
              "</div>\n",
              "      <button class=\"colab-df-convert\" onclick=\"convertToInteractive('df-fec2c35f-f91a-4589-bcc2-0bd26d39a31b')\"\n",
              "              title=\"Convert this dataframe to an interactive table.\"\n",
              "              style=\"display:none;\">\n",
              "        \n",
              "  <svg xmlns=\"http://www.w3.org/2000/svg\" height=\"24px\"viewBox=\"0 0 24 24\"\n",
              "       width=\"24px\">\n",
              "    <path d=\"M0 0h24v24H0V0z\" fill=\"none\"/>\n",
              "    <path d=\"M18.56 5.44l.94 2.06.94-2.06 2.06-.94-2.06-.94-.94-2.06-.94 2.06-2.06.94zm-11 1L8.5 8.5l.94-2.06 2.06-.94-2.06-.94L8.5 2.5l-.94 2.06-2.06.94zm10 10l.94 2.06.94-2.06 2.06-.94-2.06-.94-.94-2.06-.94 2.06-2.06.94z\"/><path d=\"M17.41 7.96l-1.37-1.37c-.4-.4-.92-.59-1.43-.59-.52 0-1.04.2-1.43.59L10.3 9.45l-7.72 7.72c-.78.78-.78 2.05 0 2.83L4 21.41c.39.39.9.59 1.41.59.51 0 1.02-.2 1.41-.59l7.78-7.78 2.81-2.81c.8-.78.8-2.07 0-2.86zM5.41 20L4 18.59l7.72-7.72 1.47 1.35L5.41 20z\"/>\n",
              "  </svg>\n",
              "      </button>\n",
              "      \n",
              "  <style>\n",
              "    .colab-df-container {\n",
              "      display:flex;\n",
              "      flex-wrap:wrap;\n",
              "      gap: 12px;\n",
              "    }\n",
              "\n",
              "    .colab-df-convert {\n",
              "      background-color: #E8F0FE;\n",
              "      border: none;\n",
              "      border-radius: 50%;\n",
              "      cursor: pointer;\n",
              "      display: none;\n",
              "      fill: #1967D2;\n",
              "      height: 32px;\n",
              "      padding: 0 0 0 0;\n",
              "      width: 32px;\n",
              "    }\n",
              "\n",
              "    .colab-df-convert:hover {\n",
              "      background-color: #E2EBFA;\n",
              "      box-shadow: 0px 1px 2px rgba(60, 64, 67, 0.3), 0px 1px 3px 1px rgba(60, 64, 67, 0.15);\n",
              "      fill: #174EA6;\n",
              "    }\n",
              "\n",
              "    [theme=dark] .colab-df-convert {\n",
              "      background-color: #3B4455;\n",
              "      fill: #D2E3FC;\n",
              "    }\n",
              "\n",
              "    [theme=dark] .colab-df-convert:hover {\n",
              "      background-color: #434B5C;\n",
              "      box-shadow: 0px 1px 3px 1px rgba(0, 0, 0, 0.15);\n",
              "      filter: drop-shadow(0px 1px 2px rgba(0, 0, 0, 0.3));\n",
              "      fill: #FFFFFF;\n",
              "    }\n",
              "  </style>\n",
              "\n",
              "      <script>\n",
              "        const buttonEl =\n",
              "          document.querySelector('#df-fec2c35f-f91a-4589-bcc2-0bd26d39a31b button.colab-df-convert');\n",
              "        buttonEl.style.display =\n",
              "          google.colab.kernel.accessAllowed ? 'block' : 'none';\n",
              "\n",
              "        async function convertToInteractive(key) {\n",
              "          const element = document.querySelector('#df-fec2c35f-f91a-4589-bcc2-0bd26d39a31b');\n",
              "          const dataTable =\n",
              "            await google.colab.kernel.invokeFunction('convertToInteractive',\n",
              "                                                     [key], {});\n",
              "          if (!dataTable) return;\n",
              "\n",
              "          const docLinkHtml = 'Like what you see? Visit the ' +\n",
              "            '<a target=\"_blank\" href=https://colab.research.google.com/notebooks/data_table.ipynb>data table notebook</a>'\n",
              "            + ' to learn more about interactive tables.';\n",
              "          element.innerHTML = '';\n",
              "          dataTable['output_type'] = 'display_data';\n",
              "          await google.colab.output.renderOutput(dataTable, element);\n",
              "          const docLink = document.createElement('div');\n",
              "          docLink.innerHTML = docLinkHtml;\n",
              "          element.appendChild(docLink);\n",
              "        }\n",
              "      </script>\n",
              "    </div>\n",
              "  </div>\n",
              "  "
            ],
            "text/plain": [
              "      PRICE  HEIGHT  WIDTH  SIGNED  PICTURE  HOUSE \n",
              "0  3.993780    21.3   25.6       1        1       1\n",
              "1  8.800000    31.9   25.6       1        2       2\n",
              "2  0.131694     6.9   15.9       0        3       3\n",
              "3  2.037500    25.7   32.0       1        4       2\n",
              "4  1.487500    25.7   32.0       1        4       2"
            ]
          },
          "metadata": {},
          "execution_count": 163
        }
      ]
    },
    {
      "cell_type": "markdown",
      "source": [
        "**Data Division for computation - Model Two:**\n",
        "\n",
        "---\n",
        "need two variable values to perform the analysis hence I am using iloc function to extract height and price columns for the analysis from the data frame.\n",
        "\n"
      ],
      "metadata": {
        "id": "m9qG7mV9wc6z"
      }
    },
    {
      "cell_type": "code",
      "source": [
        "#Data division for HEIGHT\n",
        "\n",
        "X= monet_df.iloc[:,1:]\n",
        "X2= X['HEIGHT']\n",
        "X2"
      ],
      "metadata": {
        "colab": {
          "base_uri": "https://localhost:8080/"
        },
        "id": "hqIjSP46wkyV",
        "outputId": "caa90350-567f-4e5c-b971-99b33c12d1a3"
      },
      "execution_count": 84,
      "outputs": [
        {
          "output_type": "execute_result",
          "data": {
            "text/plain": [
              "0      21.3\n",
              "1      31.9\n",
              "2       6.9\n",
              "3      25.7\n",
              "4      25.7\n",
              "       ... \n",
              "425    25.6\n",
              "426    25.9\n",
              "427    25.6\n",
              "428    25.6\n",
              "429    25.7\n",
              "Name: HEIGHT, Length: 430, dtype: float64"
            ]
          },
          "metadata": {},
          "execution_count": 84
        }
      ]
    },
    {
      "cell_type": "code",
      "source": [
        "# Data division for PRICE\n",
        "\n",
        "Y=monet_df.iloc[:, :1]\n",
        "Y2= Y['PRICE']\n",
        "Y2"
      ],
      "metadata": {
        "colab": {
          "base_uri": "https://localhost:8080/"
        },
        "id": "YzM6PCoZw5Sf",
        "outputId": "94f2232b-0448-4f64-a98b-d37509905d36"
      },
      "execution_count": 79,
      "outputs": [
        {
          "output_type": "execute_result",
          "data": {
            "text/plain": [
              "0      3.993780\n",
              "1      8.800000\n",
              "2      0.131694\n",
              "3      2.037500\n",
              "4      1.487500\n",
              "         ...   \n",
              "425    5.282500\n",
              "426    9.352500\n",
              "427    8.252500\n",
              "428    3.410000\n",
              "429    1.542500\n",
              "Name: PRICE, Length: 430, dtype: float64"
            ]
          },
          "metadata": {},
          "execution_count": 79
        }
      ]
    },
    {
      "cell_type": "markdown",
      "source": [
        "**Data Visualization:**\n",
        "\n",
        "---\n",
        "\n",
        "\n",
        "Now the scatter plot for visualization purpose is drawn for the segregated data."
      ],
      "metadata": {
        "id": "WUpk-7e4yUVM"
      }
    },
    {
      "cell_type": "code",
      "source": [
        "sns.regplot(X2, Y2, scatter_kws={\"color\": \"black\"}, line_kws={\"color\": \"red\"}).set(title='Data visulation for PricevsWidth')"
      ],
      "metadata": {
        "colab": {
          "base_uri": "https://localhost:8080/",
          "height": 366
        },
        "id": "MxX40AcTyhF6",
        "outputId": "d661d910-1a06-4d97-bd8c-48bbaca9f53c"
      },
      "execution_count": 85,
      "outputs": [
        {
          "output_type": "stream",
          "name": "stderr",
          "text": [
            "/usr/local/lib/python3.7/dist-packages/seaborn/_decorators.py:43: FutureWarning: Pass the following variables as keyword args: x, y. From version 0.12, the only valid positional argument will be `data`, and passing other arguments without an explicit keyword will result in an error or misinterpretation.\n",
            "  FutureWarning\n"
          ]
        },
        {
          "output_type": "execute_result",
          "data": {
            "text/plain": [
              "[Text(0.5, 1.0, 'Data visulation for PricevsWidth')]"
            ]
          },
          "metadata": {},
          "execution_count": 85
        },
        {
          "output_type": "display_data",
          "data": {
            "image/png": "[encoded data removed]",
            "text/plain": [
              "<Figure size 432x288 with 1 Axes>"
            ]
          },
          "metadata": {
            "needs_background": "light"
          }
        }
      ]
    },
    {
      "cell_type": "markdown",
      "source": [
        "**Data Splitting :**\n",
        "\n",
        "---\n",
        "\n",
        "\n",
        "Using the library sklearn.model_selection having train_test_split method, we divide the data into training and testing sets. \n",
        "\n",
        "In this use case the data is divided into 80:20 then separating the data into data frames. "
      ],
      "metadata": {
        "id": "imhh2eIXzg2K"
      }
    },
    {
      "cell_type": "code",
      "source": [
        "from sklearn.model_selection import train_test_split\n",
        "train_val, test_val = train_test_split(monet_df,test_size =0.2,random_state=0)\n",
        "# Test data splitting\n",
        "testDataHeight= test_val['HEIGHT'].values\n",
        "testDataHeight= testDataHeight.reshape(-1,1)\n",
        "testDataPrice=test_val['PRICE'].values\n",
        "testDataPrice= testDataPrice.reshape(-1,1)\n",
        "\n",
        "# Train data splitting\n",
        "trainDataHeight= train_val['HEIGHT'].values\n",
        "trainDataHeight= trainDataHeight.reshape(-1,1)\n",
        "trainDataPrice=train_val['PRICE'].values\n",
        "trainDataPrice= trainDataPrice.reshape(-1,1)"
      ],
      "metadata": {
        "id": "Ae__KCnp0WV_"
      },
      "execution_count": 155,
      "outputs": []
    },
    {
      "cell_type": "markdown",
      "source": [
        "**Training Model Two:**\n",
        "\n",
        "---\n",
        "\n",
        "\n",
        "\n",
        "Since Linear Regression model must be implemented, we can achieve this by using library of sklearn.linear_model having Linear Regression method. Then the model is trained using the training data. By considering Width and Price. "
      ],
      "metadata": {
        "id": "jmIWyDy10fqh"
      }
    },
    {
      "cell_type": "code",
      "source": [
        "Linear_model = LinearRegression()\n",
        "Linear_model.fit(trainDataHeight,trainDataPrice)"
      ],
      "metadata": {
        "colab": {
          "base_uri": "https://localhost:8080/"
        },
        "id": "blOV1K9N0tXJ",
        "outputId": "297a4e38-6c31-4fc6-c7e7-58e08c71dda2"
      },
      "execution_count": 156,
      "outputs": [
        {
          "output_type": "execute_result",
          "data": {
            "text/plain": [
              "LinearRegression()"
            ]
          },
          "metadata": {},
          "execution_count": 156
        }
      ]
    },
    {
      "cell_type": "markdown",
      "source": [
        "**Predicting the values:**\n",
        "\n",
        "---\n",
        "After training the model. By implementing the Linear Regression model, the values are predicted using testing data.\n"
      ],
      "metadata": {
        "id": "VyKU9xdj0zkW"
      }
    },
    {
      "cell_type": "code",
      "source": [
        "Predicting_values_two= Linear_model.predict(testDataHeight)\n",
        "Predicting_values_two"
      ],
      "metadata": {
        "colab": {
          "base_uri": "https://localhost:8080/"
        },
        "id": "uQDpee9x04_W",
        "outputId": "f7077d66-4874-4646-e652-bf7dca1167da"
      },
      "execution_count": 164,
      "outputs": [
        {
          "output_type": "execute_result",
          "data": {
            "text/plain": [
              "array([[2.75566069],\n",
              "       [1.38154483],\n",
              "       [2.94519391],\n",
              "       [1.96199032],\n",
              "       [2.75566069],\n",
              "       [2.56612747],\n",
              "       [2.03306528],\n",
              "       [2.75566069],\n",
              "       [1.89091537],\n",
              "       [6.58186259],\n",
              "       [2.80304399],\n",
              "       [4.39038472],\n",
              "       [4.39038472],\n",
              "       [2.68458573],\n",
              "       [2.32921094],\n",
              "       [3.14657296],\n",
              "       [2.75566069],\n",
              "       [2.50689833],\n",
              "       [2.75566069],\n",
              "       [3.50194775],\n",
              "       [3.91655167],\n",
              "       [2.77935234],\n",
              "       [2.51874416],\n",
              "       [3.50194775],\n",
              "       [3.51379357],\n",
              "       [0.97878674],\n",
              "       [2.83858147],\n",
              "       [3.1228813 ],\n",
              "       [1.85537789],\n",
              "       [3.50194775],\n",
              "       [2.06860276],\n",
              "       [4.0231641 ],\n",
              "       [3.15841878],\n",
              "       [3.43087279],\n",
              "       [2.74381486],\n",
              "       [4.39038472],\n",
              "       [2.74381486],\n",
              "       [4.05870158],\n",
              "       [5.80003805],\n",
              "       [2.05675693],\n",
              "       [2.24629016],\n",
              "       [2.54243581],\n",
              "       [4.39038472],\n",
              "       [5.34989665],\n",
              "       [3.59671436],\n",
              "       [2.51874416],\n",
              "       [2.74381486],\n",
              "       [6.01326293],\n",
              "       [2.75566069],\n",
              "       [2.24629016],\n",
              "       [4.39038472],\n",
              "       [1.89091537],\n",
              "       [2.74381486],\n",
              "       [2.24629016],\n",
              "       [2.05675693],\n",
              "       [2.56612747],\n",
              "       [4.39038472],\n",
              "       [2.77935234],\n",
              "       [3.1228813 ],\n",
              "       [2.05675693],\n",
              "       [2.51874416],\n",
              "       [2.77935234],\n",
              "       [4.39038472],\n",
              "       [4.01131828],\n",
              "       [2.32921094],\n",
              "       [2.51874416],\n",
              "       [2.61351077],\n",
              "       [2.80304399],\n",
              "       [2.76750651],\n",
              "       [2.56612747],\n",
              "       [2.09229441],\n",
              "       [1.96199032],\n",
              "       [3.50194775],\n",
              "       [2.24629016],\n",
              "       [2.19890685],\n",
              "       [2.51874416],\n",
              "       [4.29561811],\n",
              "       [1.86722371],\n",
              "       [2.61351077],\n",
              "       [2.4476692 ],\n",
              "       [4.15346819],\n",
              "       [2.51874416],\n",
              "       [2.21075268],\n",
              "       [2.76750651],\n",
              "       [2.51874416],\n",
              "       [3.51379357]])"
            ]
          },
          "metadata": {},
          "execution_count": 164
        }
      ]
    },
    {
      "cell_type": "markdown",
      "source": [
        "**Model Evaluation - by calculating errors:**\n",
        "\n",
        "---\n",
        "\n"
      ],
      "metadata": {
        "id": "6f3-eRPP0-dA"
      }
    },
    {
      "cell_type": "code",
      "source": [
        "from sklearn.metrics import mean_absolute_error \n",
        "test_data= testDataPrice.flatten()\n",
        "absolute_error= mean_absolute_error(test_data,Predicting_values_two)\n",
        "sqrd_error=mean_squared_error(test_data,Predicting_values_two)\n",
        "mean_sqrd_error= np.sqrt(sqrd_error)\n",
        "\n",
        "print(\"Mean Absolute Error: \", absolute_error)\n",
        "print(\"Root Mean Squared Error: \",mean_sqrd_error)"
      ],
      "metadata": {
        "colab": {
          "base_uri": "https://localhost:8080/"
        },
        "id": "gMZRs5n01Dcf",
        "outputId": "cb0922e7-fede-48a7-d244-a8e2ec70dd5a"
      },
      "execution_count": 166,
      "outputs": [
        {
          "output_type": "stream",
          "name": "stdout",
          "text": [
            "Mean Absolute Error:  2.563036369931283\n",
            "Root Mean Squared Error:  3.924459261387287\n"
          ]
        }
      ]
    },
    {
      "cell_type": "markdown",
      "source": [
        "**Data Visualisation of Model Two for training and testing data:**\n",
        "\n",
        "---\n",
        "\n"
      ],
      "metadata": {
        "id": "AOJto2ef1O2J"
      }
    },
    {
      "cell_type": "code",
      "source": [
        "sns.regplot(testDataHeight, testDataPrice, scatter_kws={\"color\": \"red\"}, line_kws={\"color\": \"green\"}).set(title='Model Two-Testing Data Plot')"
      ],
      "metadata": {
        "colab": {
          "base_uri": "https://localhost:8080/",
          "height": 352
        },
        "id": "DPNa8Fhq1V3d",
        "outputId": "dceb2ff1-bb3e-4bc8-9c75-c7ae855362d6"
      },
      "execution_count": 162,
      "outputs": [
        {
          "output_type": "stream",
          "name": "stderr",
          "text": [
            "/usr/local/lib/python3.7/dist-packages/seaborn/_decorators.py:43: FutureWarning: Pass the following variables as keyword args: x, y. From version 0.12, the only valid positional argument will be `data`, and passing other arguments without an explicit keyword will result in an error or misinterpretation.\n",
            "  FutureWarning\n"
          ]
        },
        {
          "output_type": "execute_result",
          "data": {
            "text/plain": [
              "[Text(0.5, 1.0, 'Model Two-Testing Data Plot')]"
            ]
          },
          "metadata": {},
          "execution_count": 162
        },
        {
          "output_type": "display_data",
          "data": {
            "image/png": "[encoded data removed]",
            "text/plain": [
              "<Figure size 432x288 with 1 Axes>"
            ]
          },
          "metadata": {
            "needs_background": "light"
          }
        }
      ]
    },
    {
      "cell_type": "code",
      "source": [
        "sns.regplot(trainDataHeight, trainDataPrice, scatter_kws={\"color\": \"red\"}, line_kws={\"color\": \"green\"}).set(title='Model Two-Training Data Plot')\n"
      ],
      "metadata": {
        "colab": {
          "base_uri": "https://localhost:8080/",
          "height": 352
        },
        "id": "QuiMuOyh1Yyw",
        "outputId": "8e9d3678-996b-43c7-a299-bfa54cac2ff4"
      },
      "execution_count": 91,
      "outputs": [
        {
          "output_type": "stream",
          "name": "stderr",
          "text": [
            "/usr/local/lib/python3.7/dist-packages/seaborn/_decorators.py:43: FutureWarning: Pass the following variables as keyword args: x, y. From version 0.12, the only valid positional argument will be `data`, and passing other arguments without an explicit keyword will result in an error or misinterpretation.\n",
            "  FutureWarning\n"
          ]
        },
        {
          "output_type": "execute_result",
          "data": {
            "text/plain": [
              "[Text(0.5, 1.0, 'Model Two-Training Data Plot')]"
            ]
          },
          "metadata": {},
          "execution_count": 91
        },
        {
          "output_type": "display_data",
          "data": {
            "image/png": "[encoded data removed]",
            "text/plain": [
              "<Figure size 432x288 with 1 Axes>"
            ]
          },
          "metadata": {
            "needs_background": "light"
          }
        }
      ]
    },
    {
      "cell_type": "markdown",
      "source": [
        "**Model Two Conclusion:**\n",
        "\n",
        "---\n",
        "\n",
        "It is evident that the values are very approximate to the linear line, which verdicts that there occur minimal errors. Hence based on accuracy this is proven to be best fit and the model is performing well in predicting values. "
      ],
      "metadata": {
        "id": "b4yED74J1mxU"
      }
    },
    {
      "cell_type": "markdown",
      "source": [
        "**Multivariate Linear Regression:**\n",
        "\n",
        "---\n",
        "\n",
        "\n",
        "Multivariate linear regression is a technique in statistics. The goal of this regression model is to predict the output value of a variable by taking other variables as its input. This is used to model the linear relationship between your independent variables and your dependent variable. \n",
        "\n",
        "The Multivariate model is created, by taking 7 attributes ('HEIGHT', 'WIDTH', 'SIGNED','PICTURE', 'SIZE', 'HOUSE ' VS price) "
      ],
      "metadata": {
        "id": "3Ko0fSBz3C5O"
      }
    },
    {
      "cell_type": "code",
      "source": [
        "monet_df=pd.read_csv(\"/content/monet.csv\")\n",
        "monet_df.head()\n",
        "monet_df.shape"
      ],
      "metadata": {
        "id": "bqwwLrZTHYZX",
        "outputId": "4b3782c9-c097-4de9-e515-8ab7f710fc17",
        "colab": {
          "base_uri": "https://localhost:8080/"
        }
      },
      "execution_count": null,
      "outputs": [
        {
          "output_type": "execute_result",
          "data": {
            "text/plain": [
              "(430, 6)"
            ]
          },
          "metadata": {},
          "execution_count": 26
        }
      ]
    },
    {
      "cell_type": "markdown",
      "source": [
        "**Preparing Data for analysis:**\n",
        "\n",
        "---\n",
        "In this use case X is an independent variable which stores the values of 'HEIGHT', 'WIDTH', 'SIGNED','PICTURE', 'SIZE', 'HOUSE Y is a dependent variable which stores the values of price to be predicted. "
      ],
      "metadata": {
        "id": "4q9FsH2LBaa9"
      }
    },
    {
      "cell_type": "markdown",
      "source": [
        "**Data Normalising:**\n",
        "\n",
        "---\n",
        "We implemented the data normalization\n"
      ],
      "metadata": {
        "id": "eaCMFnUdHo_k"
      }
    },
    {
      "cell_type": "code",
      "source": [
        "features=['PRICE','HEIGHT','WIDTH','SIGNED','PICTURE','HOUSE']\n",
        "data = preprocessing.normalize(monet_df)\n",
        "op_df = pd.DataFrame(data, columns=features)\n",
        "op_df.head()"
      ],
      "metadata": {
        "id": "00_3uvzmHl3E",
        "outputId": "f95e76c0-1a03-4bc2-9a8e-eccfa814a226",
        "colab": {
          "base_uri": "https://localhost:8080/",
          "height": 204
        }
      },
      "execution_count": null,
      "outputs": [
        {
          "output_type": "execute_result",
          "data": {
            "text/html": [
              "\n",
              "  <div id=\"df-0ec1ed85-a78f-48a0-a019-947e3fe885cb\">\n",
              "    <div class=\"colab-df-container\">\n",
              "      <div>\n",
              "<style scoped>\n",
              "    .dataframe tbody tr th:only-of-type {\n",
              "        vertical-align: middle;\n",
              "    }\n",
              "\n",
              "    .dataframe tbody tr th {\n",
              "        vertical-align: top;\n",
              "    }\n",
              "\n",
              "    .dataframe thead th {\n",
              "        text-align: right;\n",
              "    }\n",
              "</style>\n",
              "<table border=\"1\" class=\"dataframe\">\n",
              "  <thead>\n",
              "    <tr style=\"text-align: right;\">\n",
              "      <th></th>\n",
              "      <th>PRICE</th>\n",
              "      <th>HEIGHT</th>\n",
              "      <th>WIDTH</th>\n",
              "      <th>SIGNED</th>\n",
              "      <th>PICTURE</th>\n",
              "      <th>HOUSE</th>\n",
              "    </tr>\n",
              "  </thead>\n",
              "  <tbody>\n",
              "    <tr>\n",
              "      <th>0</th>\n",
              "      <td>0.118913</td>\n",
              "      <td>0.634198</td>\n",
              "      <td>0.762229</td>\n",
              "      <td>0.029775</td>\n",
              "      <td>0.029775</td>\n",
              "      <td>0.029775</td>\n",
              "    </tr>\n",
              "    <tr>\n",
              "      <th>1</th>\n",
              "      <td>0.209797</td>\n",
              "      <td>0.760514</td>\n",
              "      <td>0.610318</td>\n",
              "      <td>0.023841</td>\n",
              "      <td>0.047681</td>\n",
              "      <td>0.047681</td>\n",
              "    </tr>\n",
              "    <tr>\n",
              "      <th>2</th>\n",
              "      <td>0.007380</td>\n",
              "      <td>0.386667</td>\n",
              "      <td>0.891015</td>\n",
              "      <td>0.000000</td>\n",
              "      <td>0.168116</td>\n",
              "      <td>0.168116</td>\n",
              "    </tr>\n",
              "    <tr>\n",
              "      <th>3</th>\n",
              "      <td>0.049277</td>\n",
              "      <td>0.621556</td>\n",
              "      <td>0.773922</td>\n",
              "      <td>0.024185</td>\n",
              "      <td>0.096740</td>\n",
              "      <td>0.048370</td>\n",
              "    </tr>\n",
              "    <tr>\n",
              "      <th>4</th>\n",
              "      <td>0.035996</td>\n",
              "      <td>0.621909</td>\n",
              "      <td>0.774362</td>\n",
              "      <td>0.024199</td>\n",
              "      <td>0.096795</td>\n",
              "      <td>0.048398</td>\n",
              "    </tr>\n",
              "  </tbody>\n",
              "</table>\n",
              "</div>\n",
              "      <button class=\"colab-df-convert\" onclick=\"convertToInteractive('df-0ec1ed85-a78f-48a0-a019-947e3fe885cb')\"\n",
              "              title=\"Convert this dataframe to an interactive table.\"\n",
              "              style=\"display:none;\">\n",
              "        \n",
              "  <svg xmlns=\"http://www.w3.org/2000/svg\" height=\"24px\"viewBox=\"0 0 24 24\"\n",
              "       width=\"24px\">\n",
              "    <path d=\"M0 0h24v24H0V0z\" fill=\"none\"/>\n",
              "    <path d=\"M18.56 5.44l.94 2.06.94-2.06 2.06-.94-2.06-.94-.94-2.06-.94 2.06-2.06.94zm-11 1L8.5 8.5l.94-2.06 2.06-.94-2.06-.94L8.5 2.5l-.94 2.06-2.06.94zm10 10l.94 2.06.94-2.06 2.06-.94-2.06-.94-.94-2.06-.94 2.06-2.06.94z\"/><path d=\"M17.41 7.96l-1.37-1.37c-.4-.4-.92-.59-1.43-.59-.52 0-1.04.2-1.43.59L10.3 9.45l-7.72 7.72c-.78.78-.78 2.05 0 2.83L4 21.41c.39.39.9.59 1.41.59.51 0 1.02-.2 1.41-.59l7.78-7.78 2.81-2.81c.8-.78.8-2.07 0-2.86zM5.41 20L4 18.59l7.72-7.72 1.47 1.35L5.41 20z\"/>\n",
              "  </svg>\n",
              "      </button>\n",
              "      \n",
              "  <style>\n",
              "    .colab-df-container {\n",
              "      display:flex;\n",
              "      flex-wrap:wrap;\n",
              "      gap: 12px;\n",
              "    }\n",
              "\n",
              "    .colab-df-convert {\n",
              "      background-color: #E8F0FE;\n",
              "      border: none;\n",
              "      border-radius: 50%;\n",
              "      cursor: pointer;\n",
              "      display: none;\n",
              "      fill: #1967D2;\n",
              "      height: 32px;\n",
              "      padding: 0 0 0 0;\n",
              "      width: 32px;\n",
              "    }\n",
              "\n",
              "    .colab-df-convert:hover {\n",
              "      background-color: #E2EBFA;\n",
              "      box-shadow: 0px 1px 2px rgba(60, 64, 67, 0.3), 0px 1px 3px 1px rgba(60, 64, 67, 0.15);\n",
              "      fill: #174EA6;\n",
              "    }\n",
              "\n",
              "    [theme=dark] .colab-df-convert {\n",
              "      background-color: #3B4455;\n",
              "      fill: #D2E3FC;\n",
              "    }\n",
              "\n",
              "    [theme=dark] .colab-df-convert:hover {\n",
              "      background-color: #434B5C;\n",
              "      box-shadow: 0px 1px 3px 1px rgba(0, 0, 0, 0.15);\n",
              "      filter: drop-shadow(0px 1px 2px rgba(0, 0, 0, 0.3));\n",
              "      fill: #FFFFFF;\n",
              "    }\n",
              "  </style>\n",
              "\n",
              "      <script>\n",
              "        const buttonEl =\n",
              "          document.querySelector('#df-0ec1ed85-a78f-48a0-a019-947e3fe885cb button.colab-df-convert');\n",
              "        buttonEl.style.display =\n",
              "          google.colab.kernel.accessAllowed ? 'block' : 'none';\n",
              "\n",
              "        async function convertToInteractive(key) {\n",
              "          const element = document.querySelector('#df-0ec1ed85-a78f-48a0-a019-947e3fe885cb');\n",
              "          const dataTable =\n",
              "            await google.colab.kernel.invokeFunction('convertToInteractive',\n",
              "                                                     [key], {});\n",
              "          if (!dataTable) return;\n",
              "\n",
              "          const docLinkHtml = 'Like what you see? Visit the ' +\n",
              "            '<a target=\"_blank\" href=https://colab.research.google.com/notebooks/data_table.ipynb>data table notebook</a>'\n",
              "            + ' to learn more about interactive tables.';\n",
              "          element.innerHTML = '';\n",
              "          dataTable['output_type'] = 'display_data';\n",
              "          await google.colab.output.renderOutput(dataTable, element);\n",
              "          const docLink = document.createElement('div');\n",
              "          docLink.innerHTML = docLinkHtml;\n",
              "          element.appendChild(docLink);\n",
              "        }\n",
              "      </script>\n",
              "    </div>\n",
              "  </div>\n",
              "  "
            ],
            "text/plain": [
              "      PRICE    HEIGHT     WIDTH    SIGNED   PICTURE     HOUSE\n",
              "0  0.118913  0.634198  0.762229  0.029775  0.029775  0.029775\n",
              "1  0.209797  0.760514  0.610318  0.023841  0.047681  0.047681\n",
              "2  0.007380  0.386667  0.891015  0.000000  0.168116  0.168116\n",
              "3  0.049277  0.621556  0.773922  0.024185  0.096740  0.048370\n",
              "4  0.035996  0.621909  0.774362  0.024199  0.096795  0.048398"
            ]
          },
          "metadata": {},
          "execution_count": 27
        }
      ]
    },
    {
      "cell_type": "code",
      "source": [
        "X = op_df[['HEIGHT','WIDTH','SIGNED','PICTURE','HOUSE']]\n",
        "Y = op_df['PRICE']"
      ],
      "metadata": {
        "id": "HTI4cZoZIYTz"
      },
      "execution_count": null,
      "outputs": []
    },
    {
      "cell_type": "markdown",
      "source": [
        "**Data Splitting for analysis:**\n",
        "\n",
        "---\n",
        "Data is split in the ratio of 80:20 for training and testing respectively\n"
      ],
      "metadata": {
        "id": "EbUyIxuUBxuN"
      }
    },
    {
      "cell_type": "code",
      "source": [
        "X_train, X_test,Y_train,Y_test = train_test_split(X,Y,test_size =0.2)"
      ],
      "metadata": {
        "id": "191oiG-gIiFG"
      },
      "execution_count": null,
      "outputs": []
    },
    {
      "cell_type": "markdown",
      "source": [
        "**Training Model:**\n",
        "\n",
        "---\n",
        "\n",
        "After data split we now train the data using  the linear regression model  by using scikit-learn library.\n",
        "\n"
      ],
      "metadata": {
        "id": "DNrsJyl8CP80"
      }
    },
    {
      "cell_type": "code",
      "source": [
        "Linear_model.fit(X_train,Y_train)"
      ],
      "metadata": {
        "id": "jJefJupVIxI6",
        "outputId": "fc5363bb-eae7-45cd-ecd3-07de78159009",
        "colab": {
          "base_uri": "https://localhost:8080/"
        }
      },
      "execution_count": null,
      "outputs": [
        {
          "output_type": "execute_result",
          "data": {
            "text/plain": [
              "LinearRegression()"
            ]
          },
          "metadata": {},
          "execution_count": 30
        }
      ]
    },
    {
      "cell_type": "code",
      "source": [
        "Y_pred=Linear_model.predict(X_test)\n",
        "Y_pred"
      ],
      "metadata": {
        "id": "iEi57J-MI3VT",
        "outputId": "666c125a-ff73-4279-eaf3-00f902091070",
        "colab": {
          "base_uri": "https://localhost:8080/"
        }
      },
      "execution_count": null,
      "outputs": [
        {
          "output_type": "execute_result",
          "data": {
            "text/plain": [
              "array([0.02125427, 0.00917819, 0.01300189, 0.01671691, 0.01361155,\n",
              "       0.01943194, 0.01334304, 0.0137457 , 0.01482329, 0.01555635,\n",
              "       0.01590818, 0.01288774, 0.06118753, 0.01439016, 0.01171707,\n",
              "       0.01614579, 0.00893241, 0.01340425, 0.01731639, 0.02126215,\n",
              "       0.01332269, 0.0141452 , 0.02732984, 0.0156432 , 0.01810833,\n",
              "       0.01400625, 0.01593334, 0.03646144, 0.05698831, 0.06677526,\n",
              "       0.08823853, 0.01349375, 0.01656561, 0.01481457, 0.03698807,\n",
              "       0.01409877, 0.01349448, 0.0133814 , 0.03217177, 0.01347427,\n",
              "       0.01419107, 0.00467336, 0.01383347, 0.01619776, 0.01561571,\n",
              "       0.01237858, 0.01606842, 0.01668555, 0.01167707, 0.05528403,\n",
              "       0.01510732, 0.01991291, 0.01085691, 0.01453795, 0.03534505,\n",
              "       0.01247795, 0.01400761, 0.0132103 , 0.01601784, 0.01391394,\n",
              "       0.02557734, 0.01934399, 0.01371601, 0.01552905, 0.01360566,\n",
              "       0.01956594, 0.00957042, 0.02302449, 0.06952764, 0.01498019,\n",
              "       0.02473509, 0.01898312, 0.04236807, 0.0138294 , 0.01390656,\n",
              "       0.01541465, 0.019965  , 0.01954454, 0.0131639 , 0.06018962,\n",
              "       0.08780021, 0.02677785, 0.0154444 , 0.0107515 , 0.03120129,\n",
              "       0.01414027])"
            ]
          },
          "metadata": {},
          "execution_count": 31
        }
      ]
    },
    {
      "cell_type": "markdown",
      "source": [
        "**Model Predictions:**\n",
        "\n",
        "---\n",
        "\n",
        "To predict the output I use the test data and observed the accuracy of the predicted price values.\n"
      ],
      "metadata": {
        "id": "hXlJrqX0DSyz"
      }
    },
    {
      "cell_type": "markdown",
      "source": [
        "**Model Evaluation:** \n",
        "\n",
        "---\n",
        "\n",
        "For model evaluation the Scikit-learn library is used to verify below errors.\n",
        "• R2 Metrics Score\n",
        "• Mean Absolute error\n",
        "• Mean squared error\n",
        "• Root mean squared error"
      ],
      "metadata": {
        "id": "2Xz4_69VEXDw"
      }
    },
    {
      "cell_type": "code",
      "source": [
        "from sklearn.metrics import mean_absolute_error \n",
        "from sklearn.metrics import r2_score\n",
        "\n",
        "absolute_error= mean_absolute_error(Y_test, Y_pred)\n",
        "sqrd_error=mean_squared_error(Y_test,Y_pred)\n",
        "mean_sqrd_error= np.sqrt(sqrd_error)\n",
        "test_set_r2 = r2_score(Y_test, Y_pred) # The closer towards 1 the better the fit is\n",
        "\n",
        "print(\"R2_metrics\",test_set_r2)\n",
        "print(\"Mean Absolute Error: \", absolute_error)\n",
        "print(\"Mean Squared Error: \",sqrd_error)\n",
        "print(\"Root Mean Squared Error: \",mean_sqrd_error)\n"
      ],
      "metadata": {
        "id": "MPLA6UrLJVbu",
        "outputId": "fbebdeb5-c9d3-41df-b6e3-3aa2b87b1d60",
        "colab": {
          "base_uri": "https://localhost:8080/"
        }
      },
      "execution_count": null,
      "outputs": [
        {
          "output_type": "stream",
          "name": "stdout",
          "text": [
            "R2_metrics 0.3343453491730314\n",
            "Mean Absolute Error:  0.017644238180606658\n",
            "Mean Squared Error:  0.0006975963519569334\n",
            "Root Mean Squared Error:  0.026412049370636376\n"
          ]
        }
      ]
    },
    {
      "cell_type": "markdown",
      "source": [
        "**Visualizations drawn from observations:**\n",
        "\n",
        "---\n",
        "\n",
        "For this model's data visualization purpose, I used seaborn library \n"
      ],
      "metadata": {
        "id": "CI_1hZqYEkS8"
      }
    },
    {
      "cell_type": "code",
      "source": [
        "sns.regplot(Y_test,Y_pred, scatter_kws={\"color\": \"red\"}, line_kws={\"color\": \"green\"}).set(title='Testing Data Plot')"
      ],
      "metadata": {
        "id": "hAPznke-LS8T",
        "outputId": "50c767c1-dd8e-4ff1-c075-5aa8d063b88f",
        "colab": {
          "base_uri": "https://localhost:8080/",
          "height": 366
        }
      },
      "execution_count": null,
      "outputs": [
        {
          "output_type": "stream",
          "name": "stderr",
          "text": [
            "/usr/local/lib/python3.7/dist-packages/seaborn/_decorators.py:43: FutureWarning: Pass the following variables as keyword args: x, y. From version 0.12, the only valid positional argument will be `data`, and passing other arguments without an explicit keyword will result in an error or misinterpretation.\n",
            "  FutureWarning\n"
          ]
        },
        {
          "output_type": "execute_result",
          "data": {
            "text/plain": [
              "[Text(0.5, 1.0, 'Testing Data Plot')]"
            ]
          },
          "metadata": {},
          "execution_count": 89
        },
        {
          "output_type": "display_data",
          "data": {
            "image/png": "[encoded data removed]",
            "text/plain": [
              "<Figure size 432x288 with 1 Axes>"
            ]
          },
          "metadata": {
            "needs_background": "light"
          }
        }
      ]
    },
    {
      "cell_type": "markdown",
      "source": [
        "**Multivariate Linear Regression Conclusion:**\n",
        "\n",
        "---\n",
        "\n",
        "The values are remarkably close to the linear line, which minimizes the error to be a best fit model (based on accuracy), our model is doing a decent job for predicting values. \n",
        " "
      ],
      "metadata": {
        "id": "dGBngUXRE0Mk"
      }
    }
  ],
  "metadata": {
    "colab": {
      "collapsed_sections": [],
      "name": "ShaikAssignment1",
      "provenance": [],
      "include_colab_link": true
    },
    "kernelspec": {
      "display_name": "Python 3",
      "name": "python3"
    }
  },
  "nbformat": 4,
  "nbformat_minor": 0
}