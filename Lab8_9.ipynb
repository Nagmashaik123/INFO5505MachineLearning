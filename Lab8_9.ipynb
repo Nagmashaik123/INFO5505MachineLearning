{
  "nbformat": 4,
  "nbformat_minor": 0,
  "metadata": {
    "colab": {
      "name": "Lab8-9.ipynb",
      "provenance": [],
      "authorship_tag": "ABX9TyPObVvpAUmvaWd71di6cNCM",
      "include_colab_link": true
    },
    "kernelspec": {
      "name": "python3",
      "display_name": "Python 3"
    },
    "language_info": {
      "name": "python"
    }
  },
  "cells": [
    {
      "cell_type": "markdown",
      "metadata": {
        "id": "view-in-github",
        "colab_type": "text"
      },
      "source": [
        "<a href=\"https://colab.research.google.com/github/Nagmashaik123/INFO5505MachineLearning/blob/main/Lab8_9.ipynb\" target=\"_parent\"><img src=\"https://colab.research.google.com/assets/colab-badge.svg\" alt=\"Open In Colab\"/></a>"
      ]
    },
    {
      "cell_type": "code",
      "execution_count": 14,
      "metadata": {
        "colab": {
          "base_uri": "https://localhost:8080/",
          "height": 908
        },
        "id": "P1xM8xCuiZn2",
        "outputId": "1cf0b4dc-59bb-480f-a8dd-c7cfcb01de0c"
      },
      "outputs": [
        {
          "output_type": "execute_result",
          "data": {
            "text/plain": [
              "       name species   cp  hp  weight  height  power_up_stardust  \\\n",
              "0   Pidgey1  Pidgey  384  56    2.31    0.34               2500   \n",
              "1   Pidgey2  Pidgey  366  54    1.67    0.29               2500   \n",
              "2   Pidgey3  Pidgey  353  55    1.94    0.30               3000   \n",
              "3   Pidgey4  Pidgey  338  51    1.73    0.31               3000   \n",
              "4   Pidgey5  Pidgey  242  45    1.44    0.27               1900   \n",
              "..      ...     ...  ...  ..     ...     ...                ...   \n",
              "70   Eevee3   Eevee  500  64    5.11    0.26               2200   \n",
              "71   Eevee7   Eevee  606  74   10.42    0.38               2500   \n",
              "72   Eevee8   Eevee  548  66    6.87    0.32               2500   \n",
              "73   Eevee9   Eevee  528  66    7.43    0.31               2200   \n",
              "74  Eevee10   Eevee  517  72    6.63    0.29               2500   \n",
              "\n",
              "    power_up_candy   attack_weak attack_weak_type  ...  height_new  \\\n",
              "0                2        Tackle           Normal  ...        1.24   \n",
              "1                2  Quick Attack           Normal  ...        1.05   \n",
              "2                3  Quick Attack           Normal  ...        1.11   \n",
              "3                3        Tackle           Normal  ...        1.12   \n",
              "4                2  Quick Attack           Normal  ...        0.98   \n",
              "..             ...           ...              ...  ...         ...   \n",
              "70               2        Tackle           Normal  ...        0.77   \n",
              "71               2        Tackle           Normal  ...        1.26   \n",
              "72               2        Tackle           Normal  ...        0.95   \n",
              "73               2  Quick Attack           Normal  ...        0.82   \n",
              "74               2        Tackle           Normal  ...        0.88   \n",
              "\n",
              "   power_up_stardust_new power_up_candy_new  attack_weak_new  \\\n",
              "0                   2500                  2       Steel Wing   \n",
              "1                   2500                  2      Wing Attack   \n",
              "2                   3000                  3      Wing Attack   \n",
              "3                   3000                  3       Steel Wing   \n",
              "4                   1900                  2      Wing Attack   \n",
              "..                   ...                ...              ...   \n",
              "70                  2200                  2            Ember   \n",
              "71                  2500                  2        Water Gun   \n",
              "72                  2500                  2            Ember   \n",
              "73                  2200                  2    Thunder Shock   \n",
              "74                  2500                  2            Ember   \n",
              "\n",
              "    attack_weak_type_new  attack_weak_value_new  attack_strong_new  \\\n",
              "0                  Steel                     15         Air Cutter   \n",
              "1                 Flying                      9         Air Cutter   \n",
              "2                 Flying                      9         Air Cutter   \n",
              "3                  Steel                     15         Air Cutter   \n",
              "4                 Flying                      9            Twister   \n",
              "..                   ...                    ...                ...   \n",
              "70                  Fire                     10         Fire Blast   \n",
              "71                 Water                      6          Aqua Tail   \n",
              "72                  Fire                     10          Heat Wave   \n",
              "73              Electric                      5        Thunderbolt   \n",
              "74                  Fire                     10          Heat Wave   \n",
              "\n",
              "    attack_strong_type_new  attack_strong_value_new  \\\n",
              "0                   Flying                       30   \n",
              "1                   Flying                       30   \n",
              "2                   Flying                       30   \n",
              "3                   Flying                       30   \n",
              "4                   Dragon                       25   \n",
              "..                     ...                      ...   \n",
              "70                    Fire                      100   \n",
              "71                   Water                       45   \n",
              "72                    Fire                       80   \n",
              "73                Electric                       55   \n",
              "74                    Fire                       80   \n",
              "\n",
              "                                                notes  \n",
              "0                                                 NaN  \n",
              "1                                                 NaN  \n",
              "2                                                 NaN  \n",
              "3                                                 NaN  \n",
              "4                                                 NaN  \n",
              "..                                                ...  \n",
              "70  Jolteon, attack details added on date later th...  \n",
              "71  Vaporeon, attack details added on date later t...  \n",
              "72  Flareon, attack details added on date later th...  \n",
              "73  Jolteon, attack details added on date later th...  \n",
              "74  Flareon, attack details added on date later th...  \n",
              "\n",
              "[75 rows x 27 columns]"
            ],
            "text/html": [
              "\n",
              "  <div id=\"df-2c66823a-c3d2-41ac-af66-887dd67fe0cc\">\n",
              "    <div class=\"colab-df-container\">\n",
              "      <div>\n",
              "<style scoped>\n",
              "    .dataframe tbody tr th:only-of-type {\n",
              "        vertical-align: middle;\n",
              "    }\n",
              "\n",
              "    .dataframe tbody tr th {\n",
              "        vertical-align: top;\n",
              "    }\n",
              "\n",
              "    .dataframe thead th {\n",
              "        text-align: right;\n",
              "    }\n",
              "</style>\n",
              "<table border=\"1\" class=\"dataframe\">\n",
              "  <thead>\n",
              "    <tr style=\"text-align: right;\">\n",
              "      <th></th>\n",
              "      <th>name</th>\n",
              "      <th>species</th>\n",
              "      <th>cp</th>\n",
              "      <th>hp</th>\n",
              "      <th>weight</th>\n",
              "      <th>height</th>\n",
              "      <th>power_up_stardust</th>\n",
              "      <th>power_up_candy</th>\n",
              "      <th>attack_weak</th>\n",
              "      <th>attack_weak_type</th>\n",
              "      <th>...</th>\n",
              "      <th>height_new</th>\n",
              "      <th>power_up_stardust_new</th>\n",
              "      <th>power_up_candy_new</th>\n",
              "      <th>attack_weak_new</th>\n",
              "      <th>attack_weak_type_new</th>\n",
              "      <th>attack_weak_value_new</th>\n",
              "      <th>attack_strong_new</th>\n",
              "      <th>attack_strong_type_new</th>\n",
              "      <th>attack_strong_value_new</th>\n",
              "      <th>notes</th>\n",
              "    </tr>\n",
              "  </thead>\n",
              "  <tbody>\n",
              "    <tr>\n",
              "      <th>0</th>\n",
              "      <td>Pidgey1</td>\n",
              "      <td>Pidgey</td>\n",
              "      <td>384</td>\n",
              "      <td>56</td>\n",
              "      <td>2.31</td>\n",
              "      <td>0.34</td>\n",
              "      <td>2500</td>\n",
              "      <td>2</td>\n",
              "      <td>Tackle</td>\n",
              "      <td>Normal</td>\n",
              "      <td>...</td>\n",
              "      <td>1.24</td>\n",
              "      <td>2500</td>\n",
              "      <td>2</td>\n",
              "      <td>Steel Wing</td>\n",
              "      <td>Steel</td>\n",
              "      <td>15</td>\n",
              "      <td>Air Cutter</td>\n",
              "      <td>Flying</td>\n",
              "      <td>30</td>\n",
              "      <td>NaN</td>\n",
              "    </tr>\n",
              "    <tr>\n",
              "      <th>1</th>\n",
              "      <td>Pidgey2</td>\n",
              "      <td>Pidgey</td>\n",
              "      <td>366</td>\n",
              "      <td>54</td>\n",
              "      <td>1.67</td>\n",
              "      <td>0.29</td>\n",
              "      <td>2500</td>\n",
              "      <td>2</td>\n",
              "      <td>Quick Attack</td>\n",
              "      <td>Normal</td>\n",
              "      <td>...</td>\n",
              "      <td>1.05</td>\n",
              "      <td>2500</td>\n",
              "      <td>2</td>\n",
              "      <td>Wing Attack</td>\n",
              "      <td>Flying</td>\n",
              "      <td>9</td>\n",
              "      <td>Air Cutter</td>\n",
              "      <td>Flying</td>\n",
              "      <td>30</td>\n",
              "      <td>NaN</td>\n",
              "    </tr>\n",
              "    <tr>\n",
              "      <th>2</th>\n",
              "      <td>Pidgey3</td>\n",
              "      <td>Pidgey</td>\n",
              "      <td>353</td>\n",
              "      <td>55</td>\n",
              "      <td>1.94</td>\n",
              "      <td>0.30</td>\n",
              "      <td>3000</td>\n",
              "      <td>3</td>\n",
              "      <td>Quick Attack</td>\n",
              "      <td>Normal</td>\n",
              "      <td>...</td>\n",
              "      <td>1.11</td>\n",
              "      <td>3000</td>\n",
              "      <td>3</td>\n",
              "      <td>Wing Attack</td>\n",
              "      <td>Flying</td>\n",
              "      <td>9</td>\n",
              "      <td>Air Cutter</td>\n",
              "      <td>Flying</td>\n",
              "      <td>30</td>\n",
              "      <td>NaN</td>\n",
              "    </tr>\n",
              "    <tr>\n",
              "      <th>3</th>\n",
              "      <td>Pidgey4</td>\n",
              "      <td>Pidgey</td>\n",
              "      <td>338</td>\n",
              "      <td>51</td>\n",
              "      <td>1.73</td>\n",
              "      <td>0.31</td>\n",
              "      <td>3000</td>\n",
              "      <td>3</td>\n",
              "      <td>Tackle</td>\n",
              "      <td>Normal</td>\n",
              "      <td>...</td>\n",
              "      <td>1.12</td>\n",
              "      <td>3000</td>\n",
              "      <td>3</td>\n",
              "      <td>Steel Wing</td>\n",
              "      <td>Steel</td>\n",
              "      <td>15</td>\n",
              "      <td>Air Cutter</td>\n",
              "      <td>Flying</td>\n",
              "      <td>30</td>\n",
              "      <td>NaN</td>\n",
              "    </tr>\n",
              "    <tr>\n",
              "      <th>4</th>\n",
              "      <td>Pidgey5</td>\n",
              "      <td>Pidgey</td>\n",
              "      <td>242</td>\n",
              "      <td>45</td>\n",
              "      <td>1.44</td>\n",
              "      <td>0.27</td>\n",
              "      <td>1900</td>\n",
              "      <td>2</td>\n",
              "      <td>Quick Attack</td>\n",
              "      <td>Normal</td>\n",
              "      <td>...</td>\n",
              "      <td>0.98</td>\n",
              "      <td>1900</td>\n",
              "      <td>2</td>\n",
              "      <td>Wing Attack</td>\n",
              "      <td>Flying</td>\n",
              "      <td>9</td>\n",
              "      <td>Twister</td>\n",
              "      <td>Dragon</td>\n",
              "      <td>25</td>\n",
              "      <td>NaN</td>\n",
              "    </tr>\n",
              "    <tr>\n",
              "      <th>...</th>\n",
              "      <td>...</td>\n",
              "      <td>...</td>\n",
              "      <td>...</td>\n",
              "      <td>...</td>\n",
              "      <td>...</td>\n",
              "      <td>...</td>\n",
              "      <td>...</td>\n",
              "      <td>...</td>\n",
              "      <td>...</td>\n",
              "      <td>...</td>\n",
              "      <td>...</td>\n",
              "      <td>...</td>\n",
              "      <td>...</td>\n",
              "      <td>...</td>\n",
              "      <td>...</td>\n",
              "      <td>...</td>\n",
              "      <td>...</td>\n",
              "      <td>...</td>\n",
              "      <td>...</td>\n",
              "      <td>...</td>\n",
              "      <td>...</td>\n",
              "    </tr>\n",
              "    <tr>\n",
              "      <th>70</th>\n",
              "      <td>Eevee3</td>\n",
              "      <td>Eevee</td>\n",
              "      <td>500</td>\n",
              "      <td>64</td>\n",
              "      <td>5.11</td>\n",
              "      <td>0.26</td>\n",
              "      <td>2200</td>\n",
              "      <td>2</td>\n",
              "      <td>Tackle</td>\n",
              "      <td>Normal</td>\n",
              "      <td>...</td>\n",
              "      <td>0.77</td>\n",
              "      <td>2200</td>\n",
              "      <td>2</td>\n",
              "      <td>Ember</td>\n",
              "      <td>Fire</td>\n",
              "      <td>10</td>\n",
              "      <td>Fire Blast</td>\n",
              "      <td>Fire</td>\n",
              "      <td>100</td>\n",
              "      <td>Jolteon, attack details added on date later th...</td>\n",
              "    </tr>\n",
              "    <tr>\n",
              "      <th>71</th>\n",
              "      <td>Eevee7</td>\n",
              "      <td>Eevee</td>\n",
              "      <td>606</td>\n",
              "      <td>74</td>\n",
              "      <td>10.42</td>\n",
              "      <td>0.38</td>\n",
              "      <td>2500</td>\n",
              "      <td>2</td>\n",
              "      <td>Tackle</td>\n",
              "      <td>Normal</td>\n",
              "      <td>...</td>\n",
              "      <td>1.26</td>\n",
              "      <td>2500</td>\n",
              "      <td>2</td>\n",
              "      <td>Water Gun</td>\n",
              "      <td>Water</td>\n",
              "      <td>6</td>\n",
              "      <td>Aqua Tail</td>\n",
              "      <td>Water</td>\n",
              "      <td>45</td>\n",
              "      <td>Vaporeon, attack details added on date later t...</td>\n",
              "    </tr>\n",
              "    <tr>\n",
              "      <th>72</th>\n",
              "      <td>Eevee8</td>\n",
              "      <td>Eevee</td>\n",
              "      <td>548</td>\n",
              "      <td>66</td>\n",
              "      <td>6.87</td>\n",
              "      <td>0.32</td>\n",
              "      <td>2500</td>\n",
              "      <td>2</td>\n",
              "      <td>Tackle</td>\n",
              "      <td>Normal</td>\n",
              "      <td>...</td>\n",
              "      <td>0.95</td>\n",
              "      <td>2500</td>\n",
              "      <td>2</td>\n",
              "      <td>Ember</td>\n",
              "      <td>Fire</td>\n",
              "      <td>10</td>\n",
              "      <td>Heat Wave</td>\n",
              "      <td>Fire</td>\n",
              "      <td>80</td>\n",
              "      <td>Flareon, attack details added on date later th...</td>\n",
              "    </tr>\n",
              "    <tr>\n",
              "      <th>73</th>\n",
              "      <td>Eevee9</td>\n",
              "      <td>Eevee</td>\n",
              "      <td>528</td>\n",
              "      <td>66</td>\n",
              "      <td>7.43</td>\n",
              "      <td>0.31</td>\n",
              "      <td>2200</td>\n",
              "      <td>2</td>\n",
              "      <td>Quick Attack</td>\n",
              "      <td>Normal</td>\n",
              "      <td>...</td>\n",
              "      <td>0.82</td>\n",
              "      <td>2200</td>\n",
              "      <td>2</td>\n",
              "      <td>Thunder Shock</td>\n",
              "      <td>Electric</td>\n",
              "      <td>5</td>\n",
              "      <td>Thunderbolt</td>\n",
              "      <td>Electric</td>\n",
              "      <td>55</td>\n",
              "      <td>Jolteon, attack details added on date later th...</td>\n",
              "    </tr>\n",
              "    <tr>\n",
              "      <th>74</th>\n",
              "      <td>Eevee10</td>\n",
              "      <td>Eevee</td>\n",
              "      <td>517</td>\n",
              "      <td>72</td>\n",
              "      <td>6.63</td>\n",
              "      <td>0.29</td>\n",
              "      <td>2500</td>\n",
              "      <td>2</td>\n",
              "      <td>Tackle</td>\n",
              "      <td>Normal</td>\n",
              "      <td>...</td>\n",
              "      <td>0.88</td>\n",
              "      <td>2500</td>\n",
              "      <td>2</td>\n",
              "      <td>Ember</td>\n",
              "      <td>Fire</td>\n",
              "      <td>10</td>\n",
              "      <td>Heat Wave</td>\n",
              "      <td>Fire</td>\n",
              "      <td>80</td>\n",
              "      <td>Flareon, attack details added on date later th...</td>\n",
              "    </tr>\n",
              "  </tbody>\n",
              "</table>\n",
              "<p>75 rows × 27 columns</p>\n",
              "</div>\n",
              "      <button class=\"colab-df-convert\" onclick=\"convertToInteractive('df-2c66823a-c3d2-41ac-af66-887dd67fe0cc')\"\n",
              "              title=\"Convert this dataframe to an interactive table.\"\n",
              "              style=\"display:none;\">\n",
              "        \n",
              "  <svg xmlns=\"http://www.w3.org/2000/svg\" height=\"24px\"viewBox=\"0 0 24 24\"\n",
              "       width=\"24px\">\n",
              "    <path d=\"M0 0h24v24H0V0z\" fill=\"none\"/>\n",
              "    <path d=\"M18.56 5.44l.94 2.06.94-2.06 2.06-.94-2.06-.94-.94-2.06-.94 2.06-2.06.94zm-11 1L8.5 8.5l.94-2.06 2.06-.94-2.06-.94L8.5 2.5l-.94 2.06-2.06.94zm10 10l.94 2.06.94-2.06 2.06-.94-2.06-.94-.94-2.06-.94 2.06-2.06.94z\"/><path d=\"M17.41 7.96l-1.37-1.37c-.4-.4-.92-.59-1.43-.59-.52 0-1.04.2-1.43.59L10.3 9.45l-7.72 7.72c-.78.78-.78 2.05 0 2.83L4 21.41c.39.39.9.59 1.41.59.51 0 1.02-.2 1.41-.59l7.78-7.78 2.81-2.81c.8-.78.8-2.07 0-2.86zM5.41 20L4 18.59l7.72-7.72 1.47 1.35L5.41 20z\"/>\n",
              "  </svg>\n",
              "      </button>\n",
              "      \n",
              "  <style>\n",
              "    .colab-df-container {\n",
              "      display:flex;\n",
              "      flex-wrap:wrap;\n",
              "      gap: 12px;\n",
              "    }\n",
              "\n",
              "    .colab-df-convert {\n",
              "      background-color: #E8F0FE;\n",
              "      border: none;\n",
              "      border-radius: 50%;\n",
              "      cursor: pointer;\n",
              "      display: none;\n",
              "      fill: #1967D2;\n",
              "      height: 32px;\n",
              "      padding: 0 0 0 0;\n",
              "      width: 32px;\n",
              "    }\n",
              "\n",
              "    .colab-df-convert:hover {\n",
              "      background-color: #E2EBFA;\n",
              "      box-shadow: 0px 1px 2px rgba(60, 64, 67, 0.3), 0px 1px 3px 1px rgba(60, 64, 67, 0.15);\n",
              "      fill: #174EA6;\n",
              "    }\n",
              "\n",
              "    [theme=dark] .colab-df-convert {\n",
              "      background-color: #3B4455;\n",
              "      fill: #D2E3FC;\n",
              "    }\n",
              "\n",
              "    [theme=dark] .colab-df-convert:hover {\n",
              "      background-color: #434B5C;\n",
              "      box-shadow: 0px 1px 3px 1px rgba(0, 0, 0, 0.15);\n",
              "      filter: drop-shadow(0px 1px 2px rgba(0, 0, 0, 0.3));\n",
              "      fill: #FFFFFF;\n",
              "    }\n",
              "  </style>\n",
              "\n",
              "      <script>\n",
              "        const buttonEl =\n",
              "          document.querySelector('#df-2c66823a-c3d2-41ac-af66-887dd67fe0cc button.colab-df-convert');\n",
              "        buttonEl.style.display =\n",
              "          google.colab.kernel.accessAllowed ? 'block' : 'none';\n",
              "\n",
              "        async function convertToInteractive(key) {\n",
              "          const element = document.querySelector('#df-2c66823a-c3d2-41ac-af66-887dd67fe0cc');\n",
              "          const dataTable =\n",
              "            await google.colab.kernel.invokeFunction('convertToInteractive',\n",
              "                                                     [key], {});\n",
              "          if (!dataTable) return;\n",
              "\n",
              "          const docLinkHtml = 'Like what you see? Visit the ' +\n",
              "            '<a target=\"_blank\" href=https://colab.research.google.com/notebooks/data_table.ipynb>data table notebook</a>'\n",
              "            + ' to learn more about interactive tables.';\n",
              "          element.innerHTML = '';\n",
              "          dataTable['output_type'] = 'display_data';\n",
              "          await google.colab.output.renderOutput(dataTable, element);\n",
              "          const docLink = document.createElement('div');\n",
              "          docLink.innerHTML = docLinkHtml;\n",
              "          element.appendChild(docLink);\n",
              "        }\n",
              "      </script>\n",
              "    </div>\n",
              "  </div>\n",
              "  "
            ]
          },
          "metadata": {},
          "execution_count": 14
        }
      ],
      "source": [
        "import pandas as pd\n",
        "\n",
        "df= pd.read_csv(\"pokemon.csv\")\n",
        "df"
      ]
    },
    {
      "cell_type": "code",
      "source": [
        "import matplotlib.pyplot as plt\n",
        "import numpy as np \n",
        "% matplotlib inline\n",
        "\n",
        "df.plot.scatter(x='height', y='weight', c='purple')"
      ],
      "metadata": {
        "colab": {
          "base_uri": "https://localhost:8080/",
          "height": 296
        },
        "id": "S51iJVXdjmVf",
        "outputId": "a17c2df5-2162-4e53-fb65-862fd17f1257"
      },
      "execution_count": 15,
      "outputs": [
        {
          "output_type": "execute_result",
          "data": {
            "text/plain": [
              "<matplotlib.axes._subplots.AxesSubplot at 0x7ff21e1b8dd0>"
            ]
          },
          "metadata": {},
          "execution_count": 15
        },
        {
          "output_type": "display_data",
          "data": {
            "text/plain": [
              "<Figure size 432x288 with 1 Axes>"
            ],
            "image/png": "[encoded data removed]"
          },
          "metadata": {
            "needs_background": "light"
          }
        }
      ]
    },
    {
      "cell_type": "code",
      "source": [
        "pearsonCoefficient = df[\"height\"].corr(df[\"weight\"])\n",
        "print(pearsonCoefficient)"
      ],
      "metadata": {
        "colab": {
          "base_uri": "https://localhost:8080/"
        },
        "id": "m_55c1yjmiG3",
        "outputId": "50b538ec-7e1a-4be3-99e5-0017df7b0e13"
      },
      "execution_count": 7,
      "outputs": [
        {
          "output_type": "stream",
          "name": "stdout",
          "text": [
            "0.4421055507813025\n"
          ]
        }
      ]
    },
    {
      "cell_type": "code",
      "source": [
        "\n",
        "#df.boxplot(by ='None', column =['weight'], grid = False)\n",
        "boxplot = df.boxplot(column =['weight'],grid = False)"
      ],
      "metadata": {
        "colab": {
          "base_uri": "https://localhost:8080/",
          "height": 265
        },
        "id": "TF6h1JhApGB3",
        "outputId": "952d8edc-c6f0-4bbe-a458-aa8952980ea8"
      },
      "execution_count": 16,
      "outputs": [
        {
          "output_type": "display_data",
          "data": {
            "text/plain": [
              "<Figure size 432x288 with 1 Axes>"
            ],
            "image/png": "[encoded data removed]"
          },
          "metadata": {
            "needs_background": "light"
          }
        }
      ]
    },
    {
      "cell_type": "code",
      "source": [
        "def find_outliers_IQR(df):\n",
        "   q1=df.quantile(0.25)\n",
        "   q3=df.quantile(0.75)\n",
        "   IQR=q3-q1\n",
        "   outliers = df[((df<(q1-1.5*IQR)) | (df>(q3+1.5*IQR)))]\n",
        "   return outliers"
      ],
      "metadata": {
        "id": "kCYyC98Mu3Dk"
      },
      "execution_count": 25,
      "outputs": []
    },
    {
      "cell_type": "code",
      "source": [
        "outliers = find_outliers_IQR(df[\"weight\"])\n",
        "print(\"number of outliers: \", str(len(outliers)))\n",
        "print(\"max outlier value: \", str(outliers.max()))\n",
        "print(\"min outlier value: \", str(outliers.min()))"
      ],
      "metadata": {
        "colab": {
          "base_uri": "https://localhost:8080/"
        },
        "id": "38Gv5IWxu8LW",
        "outputId": "168aa026-df7e-4ae4-8dfb-ca1b946cef2a"
      },
      "execution_count": 26,
      "outputs": [
        {
          "output_type": "stream",
          "name": "stdout",
          "text": [
            "number of outliers:  4\n",
            "max outlier value:  10.42\n",
            "min outlier value:  6.63\n"
          ]
        }
      ]
    },
    {
      "cell_type": "code",
      "source": [
        ""
      ],
      "metadata": {
        "id": "lmGoktNaxWNR"
      },
      "execution_count": null,
      "outputs": []
    },
    {
      "cell_type": "code",
      "source": [
        "!pip install sklearn"
      ],
      "metadata": {
        "colab": {
          "base_uri": "https://localhost:8080/"
        },
        "id": "m-HmKyV11_or",
        "outputId": "4eeca652-670c-47c7-c5f1-e874cc7177a9"
      },
      "execution_count": 29,
      "outputs": [
        {
          "output_type": "stream",
          "name": "stdout",
          "text": [
            "Requirement already satisfied: sklearn in /usr/local/lib/python3.7/dist-packages (0.0)\n",
            "Requirement already satisfied: scikit-learn in /usr/local/lib/python3.7/dist-packages (from sklearn) (1.0.2)\n",
            "Requirement already satisfied: scipy>=1.1.0 in /usr/local/lib/python3.7/dist-packages (from scikit-learn->sklearn) (1.4.1)\n",
            "Requirement already satisfied: threadpoolctl>=2.0.0 in /usr/local/lib/python3.7/dist-packages (from scikit-learn->sklearn) (3.1.0)\n",
            "Requirement already satisfied: numpy>=1.14.6 in /usr/local/lib/python3.7/dist-packages (from scikit-learn->sklearn) (1.21.6)\n",
            "Requirement already satisfied: joblib>=0.11 in /usr/local/lib/python3.7/dist-packages (from scikit-learn->sklearn) (1.1.0)\n"
          ]
        }
      ]
    },
    {
      "cell_type": "code",
      "source": [
        "from sklearn.linear_model import LinearRegression\n",
        "from scipy import stats\n",
        "import scipy"
      ],
      "metadata": {
        "id": "yzOIGaMA2ZIM"
      },
      "execution_count": 30,
      "outputs": []
    },
    {
      "cell_type": "code",
      "source": [
        "slope, intercept, r_value, p_value, std_err = scipy.stats.linregress(df['height'], df[\"weight\"]>=6)\n"
      ],
      "metadata": {
        "id": "gWcG_uKJ3Oqr"
      },
      "execution_count": 80,
      "outputs": []
    },
    {
      "cell_type": "code",
      "source": [
        "r_value**2"
      ],
      "metadata": {
        "colab": {
          "base_uri": "https://localhost:8080/"
        },
        "id": "T9vryMPD3lsR",
        "outputId": "7c467919-f243-4e41-a697-f640fef52f76"
      },
      "execution_count": 81,
      "outputs": [
        {
          "output_type": "execute_result",
          "data": {
            "text/plain": [
              "0.024109098913001295"
            ]
          },
          "metadata": {},
          "execution_count": 81
        }
      ]
    },
    {
      "cell_type": "code",
      "source": [
        "!pip install sklearn"
      ],
      "metadata": {
        "id": "dFRLG4Av7FG7"
      },
      "execution_count": null,
      "outputs": []
    },
    {
      "cell_type": "code",
      "source": [
        "from sklearn.model_selection import train_test_split\n",
        "train_val, test_val = train_test_split(new_df,test_size =0.2,random_state=0)"
      ],
      "metadata": {
        "id": "hslwTupt7IDm"
      },
      "execution_count": 67,
      "outputs": []
    },
    {
      "cell_type": "code",
      "source": [
        "# Test data splitting\n",
        "testDataHeight= test_val['height'].values\n",
        "testDataHeight= testDataHeight.reshape(-1,1)\n",
        "testDataWeight=test_val['weight'].values\n",
        "testDataWeight= testDataWeight.reshape(-1,1)\n",
        "\n",
        "# Train data splitting\n",
        "trainDataHeight= train_val['height'].values\n",
        "trainDataHeight= trainDataHeight.reshape(-1,1)\n",
        "trainDataWeight=train_val['weight'].values\n",
        "trainDataWeight= trainDataWeight.reshape(-1,1)"
      ],
      "metadata": {
        "id": "llhMRz5a7LvB"
      },
      "execution_count": 68,
      "outputs": []
    },
    {
      "cell_type": "code",
      "source": [
        "Linear_model = LinearRegression()\n",
        "result=Linear_model.fit(trainDataHeight,trainDataWeight)"
      ],
      "metadata": {
        "id": "9vEaRtGj7k4r"
      },
      "execution_count": 69,
      "outputs": []
    },
    {
      "cell_type": "code",
      "source": [
        "1 - (1-Linear_model.score(testDataHeight, testDataWeight))*(len(testDataWeight)-1)/(len(testDataWeight)-testDataHeight.shape[1]-1)"
      ],
      "metadata": {
        "colab": {
          "base_uri": "https://localhost:8080/"
        },
        "id": "z3LB0iL98AgD",
        "outputId": "43c7f401-d080-427b-dea9-fead131abe8b"
      },
      "execution_count": 70,
      "outputs": [
        {
          "output_type": "stream",
          "name": "stderr",
          "text": [
            "/usr/local/lib/python3.7/dist-packages/sklearn/metrics/_regression.py:796: UndefinedMetricWarning: R^2 score is not well-defined with less than two samples.\n",
            "  warnings.warn(msg, UndefinedMetricWarning)\n"
          ]
        },
        {
          "output_type": "execute_result",
          "data": {
            "text/plain": [
              "nan"
            ]
          },
          "metadata": {},
          "execution_count": 70
        }
      ]
    },
    {
      "cell_type": "code",
      "source": [
        "print('Intercept: \\n', Linear_model.intercept_)\n",
        "print('Coefficients: \\n', Linear_model.coef_)"
      ],
      "metadata": {
        "colab": {
          "base_uri": "https://localhost:8080/"
        },
        "id": "KoiD_vFL9XB-",
        "outputId": "93321fff-7ce5-4288-cd94-3f22587892ba"
      },
      "execution_count": 57,
      "outputs": [
        {
          "output_type": "stream",
          "name": "stdout",
          "text": [
            "Intercept: \n",
            " [-3.79045318]\n",
            "Coefficients: \n",
            " [[21.43973357]]\n"
          ]
        }
      ]
    },
    {
      "cell_type": "code",
      "source": [
        "new_df= df.loc[df['weight'] >= 6]\n",
        "new_df"
      ],
      "metadata": {
        "id": "h2AHxe5hCFDO"
      },
      "execution_count": null,
      "outputs": []
    },
    {
      "cell_type": "code",
      "source": [
        "model = LinearRegression()\n",
        "X, y = new_df[\"height\"], new_df[\"weight\"]\n",
        "model.fit(X.values.reshape(-1, 1), y)"
      ],
      "metadata": {
        "colab": {
          "base_uri": "https://localhost:8080/"
        },
        "id": "bmAAUy1RCAMI",
        "outputId": "56ef0275-5fef-4613-cf6c-ce1e3d6c8459"
      },
      "execution_count": 76,
      "outputs": [
        {
          "output_type": "execute_result",
          "data": {
            "text/plain": [
              "LinearRegression()"
            ]
          },
          "metadata": {},
          "execution_count": 76
        }
      ]
    },
    {
      "cell_type": "code",
      "source": [
        "1 - (1-model.score(X.values.reshape(-1, 1), y))*(len(y)-1)/(len(y)-X.values.reshape(-1, 1).shape[1]-1)"
      ],
      "metadata": {
        "colab": {
          "base_uri": "https://localhost:8080/"
        },
        "id": "m9bSBK5fDQfY",
        "outputId": "10c3d543-1e94-4847-ed78-226a03729136"
      },
      "execution_count": 79,
      "outputs": [
        {
          "output_type": "execute_result",
          "data": {
            "text/plain": [
              "0.8768411348785639"
            ]
          },
          "metadata": {},
          "execution_count": 79
        }
      ]
    },
    {
      "cell_type": "code",
      "source": [
        "print('Intercept: \\n', model.intercept_)\n",
        "print('Coefficients: \\n', model.coef_)"
      ],
      "metadata": {
        "colab": {
          "base_uri": "https://localhost:8080/"
        },
        "id": "QenB3f5HDwm8",
        "outputId": "edab3d9c-54ed-4194-dbe2-60e786ce1eb8"
      },
      "execution_count": 82,
      "outputs": [
        {
          "output_type": "stream",
          "name": "stdout",
          "text": [
            "Intercept: \n",
            " -6.263888888888885\n",
            "Coefficients: \n",
            " [43.38888889]\n"
          ]
        }
      ]
    }
  ]
}